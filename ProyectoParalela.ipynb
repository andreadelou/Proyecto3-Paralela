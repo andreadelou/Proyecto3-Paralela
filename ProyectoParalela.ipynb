{
  "nbformat": 4,
  "nbformat_minor": 0,
  "metadata": {
    "colab": {
      "provenance": [],
      "gpuType": "T4"
    },
    "kernelspec": {
      "name": "python3",
      "display_name": "Python 3"
    },
    "language_info": {
      "name": "python"
    },
    "accelerator": "GPU"
  },
  "cells": [
    {
      "cell_type": "code",
      "execution_count": 1,
      "metadata": {
        "id": "O6Qdc4jCkiat"
      },
      "outputs": [],
      "source": [
        "# # Instala NVIDIA CUDA Toolkit\n",
        "# !wget https://developer.download.nvidia.com/compute/cuda/repos/ubuntu1804/x86_64/cuda-ubuntu1804.pin\n",
        "# !sudo mv cuda-ubuntu1804.pin /etc/apt/preferences.d/cuda-repository-pin-600\n",
        "# !sudo apt-key adv --fetch-keys http://developer.download.nvidia.com/compute/cuda/repos/ubuntu1804/x86_64/7fa2af80.pub\n",
        "# !sudo add-apt-repository \"deb http://developer.download.nvidia.com/compute/cuda/repos/ubuntu1804/x86_64/ /\"\n",
        "# !sudo apt-get update\n",
        "# !sudo apt-get -y install cuda\n",
        "\n",
        "# # Instala las herramientas de desarrollo de CUDA\n",
        "# !sudo apt-get -y install cuda-toolkit-11-0\n",
        "\n",
        "# # Instala el controlador NVIDIA\n",
        "# !sudo apt-get -y install nvidia-driver-510"
      ]
    },
    {
      "cell_type": "code",
      "source": [
        "import cv2\n",
        "print(\"Versión de OpenCV:\", cv2.__version__)"
      ],
      "metadata": {
        "colab": {
          "base_uri": "https://localhost:8080/"
        },
        "id": "cxxNb9o6cDlX",
        "outputId": "13eb2208-7ff6-4764-a288-9153bcaa9d49"
      },
      "execution_count": 2,
      "outputs": [
        {
          "output_type": "stream",
          "name": "stdout",
          "text": [
            "Versión de OpenCV: 4.8.0\n"
          ]
        }
      ]
    },
    {
      "cell_type": "code",
      "source": [
        "!make"
      ],
      "metadata": {
        "colab": {
          "base_uri": "https://localhost:8080/"
        },
        "id": "0pbptWvAWiPs",
        "outputId": "d8a091eb-2963-45a3-c179-a0bd9fa6e6a1"
      },
      "execution_count": 11,
      "outputs": [
        {
          "output_type": "stream",
          "name": "stdout",
          "text": [
            "nvcc hough.cu pgm.o -o hough\n"
          ]
        }
      ]
    },
    {
      "cell_type": "code",
      "source": [
        "!./hough imagen.pgm"
      ],
      "metadata": {
        "colab": {
          "base_uri": "https://localhost:8080/"
        },
        "id": "hFW4UFK8YvA4",
        "outputId": "df066912-b3fe-468d-f31c-7684d866feb0"
      },
      "execution_count": 12,
      "outputs": [
        {
          "output_type": "stream",
          "name": "stdout",
          "text": [
            "Tiempo de ejecución del kernel: 0.004064 ms\n",
            "Done!\n"
          ]
        }
      ]
    }
  ]
}